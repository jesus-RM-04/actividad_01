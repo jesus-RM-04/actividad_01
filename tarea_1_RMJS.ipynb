{
  "nbformat": 4,
  "nbformat_minor": 0,
  "metadata": {
    "colab": {
      "name": "tarea  1_RMJS.ipynb",
      "provenance": [],
      "collapsed_sections": []
    },
    "kernelspec": {
      "name": "python3",
      "display_name": "Python 3"
    }
  },
  "cells": [
    {
      "cell_type": "markdown",
      "metadata": {
        "id": "CFLW_WeGrrFT"
      },
      "source": [
        "PROGRAMA 1 .- La intencion del progrma es que leea una variable de tipo entera value. e indique si es un número\n",
        "par o impar.\n",
        "\n",
        "ALUMNO:RAMIREZ MARTINEZ JESUS SALVADOR 2SV1"
      ]
    },
    {
      "cell_type": "code",
      "metadata": {
        "id": "JS_-d1_mrjDP",
        "outputId": "7cb40fc0-abb1-423a-86f3-30a4aa293a38",
        "colab": {
          "base_uri": "https://localhost:8080/"
        }
      },
      "source": [
        "print(\"Este programa te indica si un numero es par o impar\")\n",
        "num = int(input(\"Introduzca un numero entero:\"))\n",
        "print(\"El numero que utilizaremos es:\",num)\n",
        "if num%2==0 :\n",
        "  print(\"El numero es par\")\n",
        "else: \n",
        "  print(\"El numero es impar\")"
      ],
      "execution_count": null,
      "outputs": [
        {
          "output_type": "stream",
          "text": [
            "Este programa te indica si un numero es par o impar\n",
            "Introduzca un numero entero:24\n",
            "El numero que utilizaremos es: 24\n",
            "El numero es par\n"
          ],
          "name": "stdout"
        }
      ]
    },
    {
      "cell_type": "markdown",
      "metadata": {
        "id": "Vbg4jGsYwPVI"
      },
      "source": [
        "PROGRAMA 2 .- Desarrolle un programa en el que el usuario introduzca una cadena de caracteres y un número\n",
        "entero, después el programa debe de imprimir la cadena de caracteres tantas veces como el\n",
        "núemero entero\n",
        "\n",
        "ALUMNO:RAMIREZ MARTINEZ JESUS SALVADOR 2SV1"
      ]
    },
    {
      "cell_type": "code",
      "metadata": {
        "id": "paqy-zbI0RsK",
        "outputId": "dbe50628-1add-41c8-95ad-f9e7a7f79cc2",
        "colab": {
          "base_uri": "https://localhost:8080/"
        }
      },
      "source": [
        "print(\"Este programa te imprime tu texto el numero de veces que quieras\")\n",
        "A =str(input(\"Introduzca un texto:\"))\n",
        "B = int(input(\"Introduzca el numero de veces que quiera imprimir su texto:\"))\n",
        "C=0\n",
        "while C<B:\n",
        "  C=C+1\n",
        "  print(A)\n",
        "\n"
      ],
      "execution_count": null,
      "outputs": [
        {
          "output_type": "stream",
          "text": [
            "Este programa te imprime tu texto el numero de veces que quieras\n",
            "Introduzca un texto:LOVE\n",
            "Introduzca el numero de veces que quiera imprimir su texto:3\n",
            "LOVE\n",
            "LOVE\n",
            "LOVE\n"
          ],
          "name": "stdout"
        }
      ]
    },
    {
      "cell_type": "markdown",
      "metadata": {
        "id": "EnN3Sble-7Qf"
      },
      "source": [
        "PROGRAMA 3 .- Escribir una función que reciba como argumentos el número de horas y el costo por hora dejarlo\n",
        "como argumento predefinido en 150 la función debe de regresar el pago del empleado en un\n",
        "día, en una semana (5 días) y en un mes (20 días)\n"
      ]
    },
    {
      "cell_type": "code",
      "metadata": {
        "id": "rhxqbykAEVnZ"
      },
      "source": [
        "def multiplicacion(horas,costo):\n",
        "  c=a*b\n",
        "  print(\"el pago por dia es:\",c)\n",
        "a=int(input(\"Introduzca el numero de horas que trabajo:\"))\n",
        "b=150\n",
        "multiplicacion(horas=a,costo=b)\n",
        "\n",
        "def multiplicacion (pago,dias):\n",
        "  print(\"el pago por\",e,\"dias es:\",d*e)\n",
        "c=a*b\n",
        "d= c\n",
        "e=int(input(\"Introduzca el numero de dias que trabajo:\"))\n",
        "multiplicacion(pago=d,dias=e)\n",
        "\n",
        "def multiplicacion (pago,dias):\n",
        "  print(\"el pago por\",e,\"dias es:\",d*e)\n",
        "c=a*b\n",
        "d= c\n",
        "e=int(input(\"Introduzca el numero de dias que trabajo:\"))\n",
        "multiplicacion(pago=d,dias=e)"
      ],
      "execution_count": null,
      "outputs": []
    },
    {
      "cell_type": "markdown",
      "metadata": {
        "id": "2lODGrzuRx8t"
      },
      "source": [
        "PROGRAMA 4 .- Escribir el código de una calculadora, que inicialmente muestre el menú y dependiendo de la\n",
        "opción elegida por el usuario se desarrolle la operación, observe que en la división el denominador no puede ser cero, en caso que sea así, debe de entrar en un bucle while que esté leyendo\n",
        "el denominador de nuevo hasta que éste sea distinto de cero\n"
      ]
    },
    {
      "cell_type": "code",
      "metadata": {
        "id": "tmyzuONNYoL0"
      },
      "source": [
        "while 1:\n",
        " print(\"===CALCULADORA===\")\n",
        " print(\"Elige una opción\")\n",
        " print(\"1-Suma\")\n",
        " print(\"2-Resta\")\n",
        " print(\"3-Multiplicación\")\n",
        " print(\"4-División\")\n",
        "\n",
        " x= float (input(\"Escribe tu elección:\") )\n",
        "\n",
        " if (x==1):\n",
        "    a=float(input(\"Introduce el primer numero\\n\"))\n",
        "    b=float(input(\"Introduce el segundo numero\\n\"))\n",
        "    resultado= a+b\n",
        "    print(\"El resultado de la suma es:\",resultado)\n",
        " elif (x==2):\n",
        "    a=float(input(\"Introduce el primer numero\\n\"))\n",
        "    b=float(input(\"Introduce el segundo numero\\n\"))\n",
        "    resultado= a-b\n",
        "    print(\"El resultado de la resta es:\",resultado)\n",
        " elif (x==3):\n",
        "    a=float(input(\"Introduce el primer numero\\n\"))\n",
        "    b=float(input(\"Introduce el segundo numero\\n\"))\n",
        "    resultado= a*b\n",
        "    print(\"El resultado de la multiplicación es:\",resultado)\n",
        " elif (x==4):\n",
        "    a=float(input(\"Introduce el primer numero\\n\"))\n",
        "    b=float(input(\"Introduce el segundo numero\\n\"))\n",
        "    if b==0:\n",
        "      y= float(input(\"Introduce un valor distinto a cero \"))\n",
        "      while y==0: \n",
        "        y=float(input(\"introduce un valor distinto a cero \"))\n",
        "\n",
        "      resultado=a/y\n",
        "      print(resultado)\n",
        "    else:\n",
        "      resultado= a/b\n",
        "      print(resultado)\n",
        "  "
      ],
      "execution_count": null,
      "outputs": []
    },
    {
      "cell_type": "markdown",
      "metadata": {
        "id": "0rHE-WEJqHeZ"
      },
      "source": [
        "PROGRAMA 5: Una tienda de juguetes tiene dos productos estrella, un payaso y un juego de mesa, el payaso\n",
        "pesa 150 gr y el juego de mesa pesa 170 gr. Hacer una función que reciba el núermo de payasos\n",
        "y el número de juegos de mesa por pedido, si el peso total del pedido es mayor a 10 kg, debe de mandar error, debe de inidicar por cúantos gramos se pasó el envío y debe de regresar False\n",
        "al programa principal.\n"
      ]
    },
    {
      "cell_type": "code",
      "metadata": {
        "id": "FHtPlsDEqEcz",
        "outputId": "c50f3f86-a99d-4f72-c397-aa47ce4f4ddc",
        "colab": {
          "base_uri": "https://localhost:8080/"
        }
      },
      "source": [
        "\n",
        "def multiplicacion(payaso,num):\n",
        "  c=a*b\n",
        "  print(\"el peso total de los payasos es :\",c, \"gr\")\n",
        "a=int(input(\"Introduzca el numero de payasos que desea adquirir:\"))\n",
        "b=150\n",
        "multiplicacion(payaso=a,num=b)\n",
        "def multiplicacion(juegos,cua):\n",
        "  f=d*e\n",
        "  print(\"el peso total de los payasos es :\",f, \"gr\")\n",
        "d=int(input(\"Introduzca el numero de juegos que desea adquirir:\"))\n",
        "e=170\n",
        "multiplicacion(juegos=e,cua=d)\n",
        "\n",
        "def suma(c,f):\n",
        "  j=10000\n",
        "  c=a*b\n",
        "  f=d*e\n",
        "  p=c+f\n",
        "  print(\"el peso total del pedido es:\",p,\"gr\")\n",
        "  if p>j:\n",
        "    print (\"error:\")\n",
        "    q=p-j\n",
        "    print (\"el peso fue exedido por:\",q)\n",
        "    \n",
        "  else :\n",
        "    print(\"vuelva pronto\")\n",
        "suma(c=a*b,f=d*e)\n"
      ],
      "execution_count": null,
      "outputs": [
        {
          "output_type": "stream",
          "text": [
            "Introduzca el numero de payasos que desea adquirir:45\n",
            "el peso total de los payasos es : 6750 gr\n",
            "Introduzca el numero de juegos que desea adquirir:21\n",
            "el peso total de los payasos es : 3570 gr\n",
            "el peso total del pedido es: 10320 gr\n",
            "error:\n",
            "el peso fue exedido por: 320\n"
          ],
          "name": "stdout"
        }
      ]
    },
    {
      "cell_type": "markdown",
      "metadata": {
        "id": "DY6Vtr2oKKWz"
      },
      "source": [
        "PROGRAMA 6.-Desarrolle una función que acepte como argumento el salario, y la funcón debe de mostrar el\n",
        "rango en que se encuentra, y debe de regresar el salario con el descuento del impuesto, si la\n",
        "función se ha podido desarrollar con éxito, debe de regresar True"
      ]
    },
    {
      "cell_type": "code",
      "metadata": {
        "id": "oRkIof48Kem2",
        "outputId": "b6680a13-0943-40f1-93ce-720921f1172e",
        "colab": {
          "base_uri": "https://localhost:8080/"
        }
      },
      "source": [
        "a=10000\n",
        "b=15000\n",
        "c=20000\n",
        "n=float(input(\"ingrese su salario\"))\n",
        "if n<=a:\n",
        "  print (\"el porcentaje de impuestos es el 5%\")\n",
        "  i=n*0.05\n",
        "  r=n-i\n",
        "  print(\"el total de impuestos descontados es:\",i)\n",
        "  print(\"el salario  libre de impuestos es:\",r)\n",
        "elif n<=b:\n",
        "  print (\"el porcentaje de impuestos es el 10%\")\n",
        "  i=n*0.10\n",
        "  r=n-i\n",
        "  print(\"el total de impuestos descontados es:\",i)\n",
        "  print(\"el salario libre de impuestos es:\",r)\n",
        "elif n<=c:\n",
        "  print (\"el porcentaje de impuestos es el 15%\")\n",
        "  i=n*0.15\n",
        "  r=n-i\n",
        "  print(\"el total de impuestos descontados es:\",i)\n",
        "  print(\"el salario libre de impuestos es:\",r)\n",
        "elif n>=c:\n",
        "  print (\"el porcentaje de impuestos es el 18%\")\n",
        "  i=n*0.18\n",
        "  r=n-i\n",
        "  print(\"el total de impuestos descontados es:\",i)\n",
        "  print(\"el salario  libre de impuestos es:\",r)\n"
      ],
      "execution_count": null,
      "outputs": [
        {
          "output_type": "stream",
          "text": [
            "ingrese su salario16000\n",
            "el porcentaje de impuestos es el 15%\n",
            "el total de impuestos descontados es: 2400.0\n",
            "el salario que libre de impuestos es: 13600.0\n"
          ],
          "name": "stdout"
        }
      ]
    },
    {
      "cell_type": "markdown",
      "metadata": {
        "id": "lsKgG5DKPNTy"
      },
      "source": [
        "PROGRAMA 7:-Escribir un programa para un museo, donde se deben de mandar a una funciÓn los siguientes\n",
        "parámetros, edad y ocupación. Se deben de aplicar los siguintes costos y descuentos"
      ]
    },
    {
      "cell_type": "code",
      "metadata": {
        "id": "rq85E-HvPl4H",
        "outputId": "ee50bcb7-d118-42e3-c188-3d52bb0a7bfe",
        "colab": {
          "base_uri": "https://localhost:8080/"
        }
      },
      "source": [
        "n=3\n",
        "j=16\n",
        "a=17\n",
        "edad=int(input(\"Introduzca su edad \"))\n",
        "si=1\n",
        "no=2\n",
        "if edad<=n:\n",
        "  print(\"El impuesto de entrada es gratis \")\n",
        "  \n",
        "elif edad<=j:\n",
        "  print(\"El precio de entrada es de $50 pesos\")\n",
        "  print(\"Presione 1 para SI, 2 para NO\")\n",
        "  aplica=int(input(\"Cuenta con credencaial de estudiante \"))\n",
        "  if aplica == si:\n",
        "    print(\"Usted tiene un descuento de un 10%\")\n",
        "    print(\"El costo de su entrada es de $45 pesos \")\n",
        "  else:\n",
        "    print(\"El costo de su entrada es de 50 pesos\")\n",
        "\n",
        "\n",
        "elif edad>=a:\n",
        "  print(\"El impuesto de entrada es de $100 pesos\")\n",
        "  print(\"Presione: 2  para NO,  3 para DOCENTE, 4 para INAPAM, \")\n",
        "  aplica=int(input(\"Cuenta con credencial de docente o inapam?\"))\n",
        "  if aplica==3:\n",
        "    print(\"Usted tiene un descuento del 30%\")\n",
        "    print(\"El costo de su entrada es de $70 pesos\")\n",
        "  elif aplica==4:\n",
        "    print(\"Usted tiene un descuento del 50%\")\n",
        "    print(\"El costo de su entrada es de $50 pesos\")\n",
        "  elif aplica==2:\n",
        "    print(\"El costo de su entrada es de $100 pesos\")"
      ],
      "execution_count": 29,
      "outputs": [
        {
          "output_type": "stream",
          "text": [
            "Introduzca su edad 45\n",
            "El impuesto de entrada es de $100 pesos\n",
            "Presione: 2  para NO,  3 para DOCENTE, 4 para INAPAM, \n",
            "Cuenta con credencial de docente o inapam?4\n",
            "Usted tiene un descuento del 50%\n",
            "El costo de su entrada es de $50 pesos\n"
          ],
          "name": "stdout"
        }
      ]
    },
    {
      "cell_type": "markdown",
      "metadata": {
        "id": "MYlr4-oZ9t5y"
      },
      "source": [
        "PROGRAMA 8.-Escribir un programa que pida al usuario un número entero y muestre en pantalla un tríangulo\n",
        "rectángulo el que se muestra."
      ]
    },
    {
      "cell_type": "code",
      "metadata": {
        "id": "NqZlmlJR-ogc"
      },
      "source": [
        "def triangulo (n):\n",
        "  \"\"\"\n",
        "  for i in range(1,n+1)\n",
        "  \"*\"*i\n",
        "  []\n",
        "  \"\\n\".join()\n",
        "  \"\"\"\n",
        "  return \"\\n\".join([\"*\"*i for i in range(1,n+1)])\n",
        "\n",
        "numero=int(input(\"Indica el numero: \"))\n",
        "print(triangulo(numero))"
      ],
      "execution_count": null,
      "outputs": []
    },
    {
      "cell_type": "markdown",
      "metadata": {
        "id": "HiMaxwrUHDtr"
      },
      "source": [
        "PROGRAMA 9.-Escribir una funciÓn que reciba un nÚmero entero positivo y devuelva su factorial\n"
      ]
    },
    {
      "cell_type": "code",
      "metadata": {
        "id": "bWFqKn6zHEkk",
        "outputId": "28441dc7-d634-40c8-cf91-cddbc6032e2a",
        "colab": {
          "base_uri": "https://localhost:8080/"
        }
      },
      "source": [
        "n= int (input(\"ingrese el factorial que desea realizar:\" ))\n",
        "def factorial(n):\n",
        "  if n==0:\n",
        "    return 1\n",
        "  else:\n",
        "    return n * factorial(n-1)\n",
        "print(\"el factorial de:\",n,\"es:\",factorial(n))"
      ],
      "execution_count": null,
      "outputs": [
        {
          "output_type": "stream",
          "text": [
            "ingrese el factorial que desea realizar:9\n",
            "el factorial de: 9 es: 362880\n"
          ],
          "name": "stdout"
        }
      ]
    },
    {
      "cell_type": "markdown",
      "metadata": {
        "id": "ion0krI9Beay"
      },
      "source": [
        "PROGRAMA 10:Escribir una función que calcule el área de un círculo y ota que calcule el volumen de un cilindro\n",
        "utilizando la primera función."
      ]
    },
    {
      "cell_type": "code",
      "metadata": {
        "id": "sz8n_Q4dCCE5",
        "outputId": "e5b19600-8ff8-4b61-fb7c-3a00fbb1a18f",
        "colab": {
          "base_uri": "https://localhost:8080/"
        }
      },
      "source": [
        "pi=3.1416\n",
        "r=float(input(\"Introduzca el radio del circulo: \"))\n",
        "\n",
        "area=pi*r**2\n",
        "print(\"el area es \", area)\n",
        "print(\"Presione 1 para SI, 2 para NO\")\n",
        "a= int(input(\"Desea calcular el volumen de un cilindro con el radio introducido?\" ))\n",
        "if a==1:\n",
        "  h=float(input(\"Introduzca la altura del cilindro: \"))\n",
        "  volumen=area*h\n",
        "  print(\"El volumen del cilindro es:\",volumen)\n",
        "\n",
        "else:\n",
        "  print(\"Gracias por usar el programa\")"
      ],
      "execution_count": 33,
      "outputs": [
        {
          "output_type": "stream",
          "text": [
            "Introduzca el radio del circulo: 5\n",
            "el area es  78.53999999999999\n",
            "Presione 1 para SI, 2 para NO\n",
            "Desea calcular el volumen de un cilindro con el radio introducido?1\n",
            "Introduzca la altura del cilindro: 34\n",
            "El volumen del cilindro es: 2670.3599999999997\n"
          ],
          "name": "stdout"
        }
      ]
    }
  ]
}