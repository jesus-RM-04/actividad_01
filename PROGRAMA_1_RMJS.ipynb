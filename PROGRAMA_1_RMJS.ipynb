{
  "nbformat": 4,
  "nbformat_minor": 0,
  "metadata": {
    "colab": {
      "name": "PROGRAMA 1_RMJS.ipynb",
      "provenance": [],
      "collapsed_sections": []
    },
    "kernelspec": {
      "name": "python3",
      "display_name": "Python 3"
    }
  },
  "cells": [
    {
      "cell_type": "markdown",
      "metadata": {
        "id": "CFLW_WeGrrFT"
      },
      "source": [
        "PROGRAMA 1 .- La intencion del progrma es que leea una variable de tipo entera value. e indique si es un número\n",
        "par o impar.\n",
        "\n",
        "ALUMNO:RAMIREZ MARTINEZ JESUS SALVADOR 2SV1"
      ]
    },
    {
      "cell_type": "code",
      "metadata": {
        "id": "JS_-d1_mrjDP",
        "outputId": "349ba56c-11bb-4e7f-d180-e92bebc089e7",
        "colab": {
          "base_uri": "https://localhost:8080/"
        }
      },
      "source": [
        "print(\"Este programa te indica si un numero es par o impar\")\n",
        "num = int(input(\"Introduzca un numero entero:\"))\n",
        "print(\"El numero que utilizaremos es:\",num)\n",
        "if num%2==0 :\n",
        "  print(\"El numero es par\")\n",
        "else: \n",
        "  print(\"El numero es impar\")"
      ],
      "execution_count": 2,
      "outputs": [
        {
          "output_type": "stream",
          "text": [
            "Este programa te indica si un numero es par o impar\n",
            "Introduzca un numero entero:23\n",
            "El numero que utilizaremos es: 23\n",
            "El numero es impar\n"
          ],
          "name": "stdout"
        }
      ]
    }
  ]
}